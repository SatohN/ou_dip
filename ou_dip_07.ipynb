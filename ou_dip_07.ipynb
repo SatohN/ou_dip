import cv2
import numpy as np  # PythonのOpenCVでは、画像はnumpyのarrayとして管理される
from google.colab.patches import cv2_imshow # colab内で画像表示関数がうまく動かないので、パッチが提供されている

# Googleドライブへのマウント
from google.colab import drive
drive.mount('/content/drive')
%cd "/content/drive/My Drive/Colab Notebooks/ou_dip/"
     

# imgをrefに張り合わせることを考える
ref = cv2.imread("pano_ref.jpg") # ベースとなる画像（BGR）
src = cv2.imread("pano_src.jpg") # 変換する画像（BGR）

pts_ref = np.float32([[923,156],[1281,143],[1276,760],[916,745]]) # refの点(x', y')
pts_src = np.float32([[88,163],[438,190],[437,760],[78,782]])  # srcの点(x, y)

H = cv2.getPerspectiveTransform(pts_src,pts_ref)  # 最小二乗法によるホモグラフィ行列の推定（img -> refへの変換）
     

# CAUTION: 以下はあくまで仕組みを学習するための例。
# 実用上は、二重forループなどできるだけ書かず、関数を呼べるなら呼ぶべき（Appendix参照）

# 順変換による画像生成例
# 全画素に画素値を埋められず、穴が空いていることがわかる：逆変換が必要！
dst_forward = np.zeros((src.shape[0],src.shape[1]*2,3), dtype=np.uint8) # 横幅2倍の画像を生成(縦src.shape[0],横src.shape[1],3ch)
dst_forward[0:ref.shape[0], 0:ref.shape[1], :] = ref # 最初に、refの画素値を先に入れておく（部分配列の操作）。3次元目は色なので、そのまま(:)

for src_y in range(src.shape[0]):
  for src_x in range(src.shape[1]):
    src_xyw = np.float32([src_x, src_y, 1]) # 同次座標
    dst_xyw = H.dot(src_xyw)  # 変換
    dst_x = dst_xyw[0]/dst_xyw[2] # 出力画像のX
    dst_y = dst_xyw[1]/dst_xyw[2] # 出力画像のY

    if dst_x < 0 or dst_y < 0 or dst_x > dst_forward.shape[1]-1 or dst_y > dst_forward.shape[0]-1:  # 画像の外側を参照しないようにする
      continue
    
    dst_forward[int(dst_y+0.5)][int(dst_x+0.5)] = src[src_y][src_x]   # 対応する画素から画素値をコピー 

cv2_imshow(dst_forward) # 表示
     

# 課題：逆変換による画像生成
# レベル：Basic（最近傍法による補間）
# レベル：Advanced（バイリニア補間）
# 注意：勉強のため、imshow, imread, imwrite以外のOpenCVの関数 (cv2で始まる) は、ここでは使わないように

dst = np.zeros((src.shape[0],src.shape[1]*2,3), dtype=np.uint8) # 横幅2倍の画像を生成(縦src.shape[0],横src.shape[1],3ch)
dst[0:ref.shape[0], 0:ref.shape[1], :] = ref # 最初に、refの画素値を先に入れておく（部分配列の操作）。3次元目は色なので、そのまま(:)
H_inv = np.linalg.inv(H)  # 逆行列の計算

# 画像生成処理
## ヒント：基本的には、順変換と同様のことをH_invを使ってやれば良い

# 逆変換による画像生成
for dst_y in range(dst.shape[0]):
    for dst_x in range(dst.shape[1]):
        # 同次座標系に変換
        dst_xyw = np.float32([dst_x, dst_y, 1])  
        src_xyw = H_inv.dot(dst_xyw)  # 逆変換
        src_x = src_xyw[0] / src_xyw[2]  # 入力画像のX
        src_y = src_xyw[1] / src_xyw[2]  # 入力画像のY

        if src_x < 0 or src_y < 0 or src_x > src.shape[1] - 1 or src_y > src.shape[0] - 1:
            continue

        # 最近傍法による補間
        src_x_int = int(src_x + 0.5)
        src_y_int = int(src_y + 0.5)
        dst[dst_y, dst_x] = src[src_y_int, src_x_int]

cv2_imshow(dst)  # 表示

# refとdstの間の重複部分の画素値を使った色補正
mask_overlap = (dst[:, :ref.shape[1], :] != 0).all(axis=2)  # 重複領域マスク
overlap_src = src[mask_overlap]  # src画像の重複領域の画素値
overlap_ref = ref[mask_overlap]  # ref画像の重複領域の画素値

# 色補正行列の計算（線形最小二乗法）
A = np.hstack([overlap_src, np.ones((overlap_src.shape[0], 1))])  # [R_src, G_src, B_src, 1]
b = overlap_ref  # [R_ref, G_ref, B_ref]
color_transform = np.linalg.pinv(A).dot(b)  # 擬似逆行列を使った線形最小二乗法

# 画素値の変換
src_corrected = np.zeros_like(src, dtype=np.float32)
src_corrected_flat = src.reshape(-1, 3)  # 平坦化
A_full = np.hstack([src_corrected_flat, np.ones((src_corrected_flat.shape[0], 1))])  # 拡張行列
corrected_flat = A_full.dot(color_transform).clip(0, 255)  # 色補正 + クリッピング
src_corrected = corrected_flat.reshape(src.shape).astype(np.uint8)

# パノラマ画像の生成
panorama = dst.copy()  # 逆変換で生成した画像を基に
for y in range(ref.shape[0]):
    for x in range(ref.shape[1]):
        if not mask_overlap[y, x]:  # 重複していない領域はref画像からコピー
            panorama[y, x] = ref[y, x]

cv2_imshow(panorama)  # 完成したパノラマ画像の表示

# 保存（必要に応じて有効化）
# cv2.imwrite("panorama_output.jpg", panorama)








