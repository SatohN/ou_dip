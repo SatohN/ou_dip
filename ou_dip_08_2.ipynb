{
  "nbformat": 4,
  "nbformat_minor": 0,
  "metadata": {
    "colab": {
      "name": "ou_dip_08_2.ipynb",
      "provenance": [],
      "collapsed_sections": []
    },
    "kernelspec": {
      "name": "python3",
      "display_name": "Python 3"
    }
  },
  "cells": [
    {
      "cell_type": "code",
      "metadata": {
        "id": "_plBn93_P5XL"
      },
      "source": [
        "# Googleドライブへのマウント（Colab用コード）\n",
        "from google.colab import drive\n",
        "drive.mount('/content/drive')\n",
        "%cd \"/content/drive/My Drive/Colab Notebooks/ou_dip/\""
      ],
      "execution_count": null,
      "outputs": []
    },
    {
      "cell_type": "code",
      "metadata": {
        "id": "YXmIuEvpbiLr"
      },
      "source": [
        "import cv2\n",
        "import numpy as np  # PythonのOpenCVでは、画像はnumpyのarrayとして管理される\n",
        "from PIL import Image\n",
        "import matplotlib.pyplot as plt\n",
        "%matplotlib inline\n",
        "\n",
        "def imshow(img):\n",
        "  if img.ndim == 3:\n",
        "    img = cv2.cvtColor(img,cv2.COLOR_BGR2RGB)\n",
        "    display(Image.fromarray(img))\n",
        "  else:\n",
        "    display(Image.fromarray(img))"
      ],
      "execution_count": null,
      "outputs": []
    },
    {
      "cell_type": "code",
      "metadata": {
        "id": "bBQd6fPCbmJh"
      },
      "source": [
        "# 入力画像\n",
        "img = cv2.imread(\"sample.jpg\")"
      ],
      "execution_count": null,
      "outputs": []
    },
    {
      "cell_type": "code",
      "metadata": {
        "id": "RS_1vy0ndhOb"
      },
      "source": [
        "# superpixel segmentation (SLIC)\n",
        "# https://docs.opencv.org/master/df/d6c/group__ximgproc__superpixel.html\n",
        "# image\tImage to segment\n",
        "# algorithm\tChooses the algorithm variant to use: SLIC segments image using a desired region_size, and in addition SLICO will optimize using adaptive compactness factor, while MSLIC will optimize using manifold methods resulting in more content-sensitive superpixels.\n",
        "# region_size\tChooses an average superpixel size measured in pixels\n",
        "# ruler\tChooses the enforcement of superpixel smoothness factor of superpixel\n",
        "\n",
        "lab = cv2.cvtColor(img, cv2.COLOR_BGR2Lab)\n",
        "slic = cv2.ximgproc.createSuperpixelSLIC(lab, cv2.ximgproc.SLICO, region_size=30, ruler=10.0)\n",
        "slic.iterate(4)\n",
        "slic.enforceLabelConnectivity(min_element_size=10)\n",
        "contours_dst = img.copy()\n",
        "\n",
        "# contour mask \n",
        "contours = slic.getLabelContourMask(False)\n",
        "contours_dst[0 < contours] = (0, 255, 255)\n",
        "print(\"SLIC contours\")\n",
        "imshow(contours_dst)\n",
        "\n",
        "# labels\n",
        "superpixels = slic.getLabels()\n",
        "print(\"SLIC masks\")\n",
        "plt.figure()\n",
        "plt.imshow(superpixels)\n",
        "#imshow(superpixels.astype(np.uint8))"
      ],
      "execution_count": null,
      "outputs": []
    },
    {
      "cell_type": "code",
      "metadata": {
        "id": "57SSkTHJajEE"
      },
      "source": [
        "# 領域がつながっているか判定\n",
        "\n",
        "def is_connected(mask, i, j):\n",
        "  mask_i = (mask==i).astype(np.uint8)\n",
        "  mask_j = (mask==j).astype(np.uint8)\n",
        "\n",
        "  kernel8 = np.ones((3,3),np.uint8)\n",
        "  mask_i_dilated = cv2.dilate(mask_i,kernel8,iterations = 1)\n",
        "  \n",
        "  return np.sum(mask_i_dilated & mask_j) > 0"
      ],
      "execution_count": null,
      "outputs": []
    },
    {
      "cell_type": "code",
      "metadata": {
        "id": "ePs4bVc7b3n1"
      },
      "source": [
        "# Superpixelを初期値にした region unification (てきとう実装；時間かかる)\n",
        "\n",
        "mask = superpixels.copy()\n",
        "num_regions = np.max(mask)\n",
        "threshold = 40.0\n",
        "\n",
        "for k in range(1):  # 統合1回だけにした\n",
        "\n",
        "  # 特徴：領域中のLABの平均\n",
        "  mean_lab = []\n",
        "  for i in range(num_regions):\n",
        "    # features\n",
        "    mean_lab.append(np.mean(lab[mask==i],axis=0))\n",
        "\n",
        "  # 隣接領域で、一番特徴が近いものを選択\n",
        "  min_distance = np.ones(num_regions)*threshold\n",
        "  min_id = np.array(range(num_regions))\n",
        "\n",
        "  for i in range(num_regions):\n",
        "    for j in range(num_regions):\n",
        "      if j<=i: continue\n",
        "\n",
        "      if is_connected(mask,i,j):\n",
        "        d = np.linalg.norm(mean_lab[i]-mean_lab[j])\n",
        "        if(min_distance[i] > d):\n",
        "          min_distance[i] = d\n",
        "          min_id[i] = j\n",
        "    \n",
        "  #print(min_id,min_distance)\n",
        "  \n",
        "  # ラベルを更新\n",
        "  for i in reversed(range(num_regions)):\n",
        "    #print(i,min_id[i])\n",
        "    j = min_id[i]\n",
        "    if j < 0: continue\n",
        "\n",
        "    min_id[j] = i\n",
        "    min_id = np.where(min_id==j,i,min_id)\n",
        "\n",
        "  for i in range(num_regions):\n",
        "    mask = np.where(mask==i,min_id[i],mask)\n",
        "\n",
        "#mask = mask.astype(np.uint8)\n",
        "#imshow(mask)\n",
        "\n",
        "plt.figure()\n",
        "plt.imshow(mask)"
      ],
      "execution_count": null,
      "outputs": []
    },
    {
      "cell_type": "code",
      "metadata": {
        "id": "bN-eZpRUaYOy"
      },
      "source": [
        ""
      ],
      "execution_count": null,
      "outputs": []
    }
  ]
}